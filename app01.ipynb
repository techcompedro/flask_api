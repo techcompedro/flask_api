{
 "cells": [
  {
   "cell_type": "code",
   "execution_count": null,
   "metadata": {},
   "outputs": [],
   "source": [
    "#REVISÃO DE FLASK\n",
    "from flask import Flask \n",
    "\n",
    "app = Flask(__name__)\n",
    "\n",
    "@app.route('/')\n",
    "def primeira_pagina():\n",
    "    return '<h1> minha primeira pagina </h1>'\n",
    "\n",
    "@app.route('/segunda pagina')\n",
    "def sungunda_pagina():\n",
    "    return '<h1> minha sugunda pagina'\n",
    "\n",
    "if __name__ == '__main__':\n",
    "    app.run(debug=True)"
   ]
  },
  {
   "cell_type": "code",
   "execution_count": null,
   "metadata": {},
   "outputs": [],
   "source": [
    "#ATIVIDADE DA AULA DO DIA 22/06/2024\n",
    "from flask import Flask\n",
    "app = Flask(__name__)\n",
    "@app.route('/')\n",
    "def hello_world():\n",
    "    return '''<h1>minha primeira pagina</h1>\n",
    "    <form>\n",
    "           <label>primeiro nome:</label>\n",
    "           <input type=\"text\"><br><br>\n",
    "           <lapel>segundo Nome</label>\n",
    "           <input type=\"text\"><br><br>\n",
    "           <input type=\"submit\" value=\"enviar\">\n",
    "    </form>'''\n",
    "app.run()\n",
    "\n"
   ]
  }
 ],
 "metadata": {
  "kernelspec": {
   "display_name": "Python 3",
   "language": "python",
   "name": "python3"
  },
  "language_info": {
   "codemirror_mode": {
    "name": "ipython",
    "version": 3
   },
   "file_extension": ".py",
   "mimetype": "text/x-python",
   "name": "python",
   "nbconvert_exporter": "python",
   "pygments_lexer": "ipython3",
   "version": "3.12.4"
  }
 },
 "nbformat": 4,
 "nbformat_minor": 2
}
